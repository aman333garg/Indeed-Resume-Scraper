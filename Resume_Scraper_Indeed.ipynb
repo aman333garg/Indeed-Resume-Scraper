{
 "cells": [
  {
   "cell_type": "code",
   "execution_count": 1,
   "metadata": {},
   "outputs": [],
   "source": [
    "from bs4 import BeautifulSoup\n",
    "from selenium import webdriver\n",
    "from selenium.webdriver.common.keys import Keys\n",
    "from selenium.webdriver.common.by import By\n",
    "from selenium.webdriver.support.ui import WebDriverWait\n",
    "from selenium.webdriver.support import expected_conditions as EC\n",
    "import html5lib\n",
    "\n",
    "options = webdriver.ChromeOptions()\n",
    "options.add_argument('--headless')"
   ]
  },
  {
   "cell_type": "code",
   "execution_count": 91,
   "metadata": {},
   "outputs": [],
   "source": [
    "username = '' # Enter your username here.\n",
    "password = 'Foundation1!' #Enter your password here."
   ]
  },
  {
   "cell_type": "code",
   "execution_count": 90,
   "metadata": {},
   "outputs": [],
   "source": [
    "# Indeed search result URLS to be scraped\n",
    "baseurl = \"https://resumes.indeed.com/search?q=business+analyst+india&l=&searchFields=\"\n",
    "baseurl_data_scientist = \"https://resumes.indeed.com/search?q=data+scientist+india&l=&searchFields=\"\n",
    "baseurl_senior_consultant = \"https://resumes.indeed.com/search?q=consultant+india&l=&searchFields=&rb=jtid%3A2051\""
   ]
  },
  {
   "cell_type": "code",
   "execution_count": 14,
   "metadata": {},
   "outputs": [],
   "source": [
    "#Logging into Indeed account\n",
    "\n",
    "loginurl = \"https://secure.indeed.com/auth?hl=en_IN&co=IN&continue=https%3A%2F%2Fin.indeed.com%2F%3Fr%3Dus&tmpl=desktop&service=my&from=gnav-util-homepage&jsContinue=https%3A%2F%2Fin.indeed.com%2F&empContinue=https%3A%2F%2Faccount.indeed.com%2Fmyaccess&_ga=2.159935353.514202911.1669890886-117997142.1669890886\"\n",
    "driver = webdriver.Chrome()\n",
    "driver.get(loginurl)\n",
    "\n",
    "username_field = driver.find_element(By.ID, 'ifl-InputFormField-3')\n",
    "username_field.send_keys('aman333garg@gmail.com')\n",
    "\n",
    "SUBMIT = driver.find_element(By.CLASS_NAME, \"i-unmask.css-jorj5j.e8ju0x51\")\n",
    "SUBMIT.click()\n",
    "\n",
    "login_with_password = driver.find_element(By.ID, 'auth-page-google-password-fallback')\n",
    "login_with_password.click()\n",
    "\n",
    "password_field = driver.find_element(By.ID, 'ifl-InputFormField-116')\n",
    "password_field.send_keys(password)\n",
    "\n",
    "signin = driver.find_element(By.CLASS_NAME, 'i-unmask.css-12ypvar.e8ju0x51')\n",
    "signin.click()\n",
    "\n",
    "verification = input(\"Enter verification code: \")"
   ]
  },
  {
   "cell_type": "code",
   "execution_count": 22,
   "metadata": {},
   "outputs": [],
   "source": [
    "#2 Factor Authentication for login. Enter OTP recieved on phone.\n",
    "\n",
    "driver.find_element(By.ID, 'verification_input').send_keys(verification)\n",
    "sign = driver.find_element(By.ID, 'submit-code')\n",
    "sign.click()"
   ]
  },
  {
   "cell_type": "code",
   "execution_count": 86,
   "metadata": {},
   "outputs": [],
   "source": [
    "#Open indeed search results URL to scrape and load it into BeautifulSoup\n",
    "\n",
    "driver.get(baseurl_senior_consultant)\n",
    "\n",
    "#close = driver.find_element(By.CLASS_NAME, 'css-dbo777.e8ju0x51')\n",
    "#close.click()\n",
    "#search = driver.find_element(By.CLASS_NAME, 'css-1kroywn.e8ju0x51')\n",
    "#search.click()\n",
    "\n",
    "soup = BeautifulSoup(driver.page_source,'html5lib')\n",
    "people = soup.find_all(class_='css-o9nrcm eu4oa1w0')"
   ]
  },
  {
   "cell_type": "code",
   "execution_count": 89,
   "metadata": {},
   "outputs": [
    {
     "name": "stdout",
     "output_type": "stream",
     "text": [
      "Printing resume0\n",
      "Printing resume0\n",
      "Printing resume0\n",
      "Printing resume0\n",
      "Printing resume0\n",
      "Printing resume0\n",
      "Printing resume0\n",
      "Printing resume0\n",
      "Printing resume0\n",
      "Printing resume0\n",
      "Printing resume0\n",
      "Printing resume0\n",
      "Printing resume0\n",
      "Printing resume0\n",
      "Printing resume0\n",
      "Printing resume0\n",
      "Printing resume0\n",
      "Printing resume0\n",
      "Printing resume0\n",
      "Printing resume0\n",
      "Printing resume0\n",
      "Printing resume0\n",
      "Printing resume0\n",
      "Printing resume0\n",
      "Printing resume0\n",
      "Printing resume0\n",
      "Printing resume0\n",
      "Printing resume0\n",
      "Printing resume0\n",
      "Printing resume0\n",
      "Printing resume0\n",
      "Printing resume0\n",
      "Printing resume0\n",
      "Printing resume0\n",
      "Printing resume0\n",
      "Printing resume0\n",
      "Printing resume0\n",
      "Printing resume0\n",
      "Printing resume0\n",
      "Printing resume0\n",
      "Printing resume0\n",
      "Printing resume0\n",
      "Printing resume0\n",
      "Printing resume0\n",
      "Printing resume0\n",
      "Printing resume0\n",
      "Printing resume0\n",
      "Printing resume0\n",
      "Printing resume0\n",
      "Printing resume0\n"
     ]
    }
   ],
   "source": [
    "#for each search result on the page, open the corresponding resume in PDF format.\n",
    "index = 0\n",
    "for person in people:\n",
    "    url = person.find('a', class_=\"css-4rc5aq e8ju0x51\").get('href') #href contains the path to the PDF file\n",
    "    resume_id= url[8:24] #extracting the 16-digit ID of the resume file from the path\n",
    "    resume = 'https://resumes.indeed.com/resume/' + resume_id + '/pdf' # Building the URL to the pdf file based on the link to which the pdf download button was pointing to \n",
    "    index = index +1\n",
    "    driver.get(resume) #Opening the pdf URL automatically downloads the file.\n",
    "print(str(index) + \"Resumes downloaded\")"
   ]
  },
  {
   "cell_type": "code",
   "execution_count": null,
   "metadata": {},
   "outputs": [],
   "source": [
    "driver.quit()"
   ]
  }
 ],
 "metadata": {
  "kernelspec": {
   "display_name": "Python 3",
   "language": "python",
   "name": "python3"
  },
  "language_info": {
   "codemirror_mode": {
    "name": "ipython",
    "version": 3
   },
   "file_extension": ".py",
   "mimetype": "text/x-python",
   "name": "python",
   "nbconvert_exporter": "python",
   "pygments_lexer": "ipython3",
   "version": "3.7.3"
  }
 },
 "nbformat": 4,
 "nbformat_minor": 2
}
